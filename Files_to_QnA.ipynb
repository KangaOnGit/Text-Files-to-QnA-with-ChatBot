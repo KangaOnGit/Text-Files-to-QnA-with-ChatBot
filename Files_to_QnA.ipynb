{
  "nbformat": 4,
  "nbformat_minor": 0,
  "metadata": {
    "colab": {
      "provenance": [],
      "gpuType": "T4",
      "authorship_tag": "ABX9TyMlWdF2IsWmR9ioUVyE3bLy",
      "include_colab_link": true
    },
    "kernelspec": {
      "name": "python3",
      "display_name": "Python 3"
    },
    "language_info": {
      "name": "python"
    },
    "accelerator": "GPU"
  },
  "cells": [
    {
      "cell_type": "markdown",
      "metadata": {
        "id": "view-in-github",
        "colab_type": "text"
      },
      "source": [
        "<a href=\"https://colab.research.google.com/github/KhangTheKangaroo/Text-Files-to-QnA-with-ChatBot/blob/main/Files_to_QnA.ipynb\" target=\"_parent\"><img src=\"https://colab.research.google.com/assets/colab-badge.svg\" alt=\"Open In Colab\"/></a>"
      ]
    },
    {
      "cell_type": "code",
      "source": [
        "!pip install -q transformers==4.41.2\n",
        "!pip install -q bitsandbytes==0.43.1\n",
        "!pip install -q accelerate==0.31.0\n",
        "!pip install -q langchain==0.2.5\n",
        "!pip install -q langchainhub==0.1.20\n",
        "!pip install -q langchain-chroma==0.1.1\n",
        "!pip install -q langchain-community==0.2.5\n",
        "!pip install -q langchain_huggingface==0.0.3\n",
        "!pip install -q langchain-openai==0.1.9\n",
        "!pip install -q chainlit==1.1.304\n",
        "!npm install -g localtunnel\n",
        "!pip install -q python-dotenv==1.0.1\n",
        "!pip install -q pypdf==4.2.0\n",
        "!pip install -q numpy==1.24.4\n",
        "!pip uninstall -y torch torchvision torchaudio\n",
        "!pip install torch torchvision torchaudio"
      ],
      "metadata": {
        "id": "5F8kyQizXAIH"
      },
      "execution_count": null,
      "outputs": []
    },
    {
      "cell_type": "code",
      "source": [
        "!pip install chainlit --upgrade"
      ],
      "metadata": {
        "id": "R5f9ARIusBKG"
      },
      "execution_count": null,
      "outputs": []
    },
    {
      "cell_type": "code",
      "source": [
        "import torch\n",
        "import chainlit as cl\n",
        "from chainlit.types import AskFileResponse\n",
        "from transformers import BitsAndBytesConfig\n",
        "from transformers import AutoTokenizer , AutoModelForCausalLM , pipeline\n",
        "from langchain_huggingface import HuggingFaceEmbeddings\n",
        "from langchain_huggingface.llms import HuggingFacePipeline\n",
        "from langchain.memory import ConversationBufferMemory\n",
        "from langchain_community.chat_message_histories import ChatMessageHistory\n",
        "from langchain_community.document_loaders import PyPDFLoader , TextLoader\n",
        "from langchain.chains import ConversationalRetrievalChain\n",
        "from langchain_chroma import Chroma\n",
        "from langchain_text_splitters import RecursiveCharacterTextSplitter\n",
        "from langchain_core.runnables import RunnablePassthrough\n",
        "from langchain_core.output_parsers import StrOutputParser\n",
        "from langchain import hub"
      ],
      "metadata": {
        "id": "5aDfB9xDbpyF"
      },
      "execution_count": null,
      "outputs": []
    },
    {
      "cell_type": "code",
      "source": [
        "def process_file(file: AskFileResponse):\n",
        "  if file.type == 'text/plain':\n",
        "    Loader = TextLoader(file.path)\n",
        "  elif file.type == 'application/pdf':\n",
        "    Loader = PyPDFLoader\n",
        "\n",
        "  loader = Loader(file.path)\n",
        "  documents = loader.load()\n",
        "  docs = text_splitter.split_documents(documents)\n",
        "  for i, doc in enumerate(docs):\n",
        "    doc.metadata['Source'] = f'Source_{i}'\n",
        "\n",
        "  return docs"
      ],
      "metadata": {
        "id": "FtHInVGIcFa1"
      },
      "execution_count": null,
      "outputs": []
    },
    {
      "cell_type": "code",
      "source": [
        "def getvector_db(file: AskFileResponse):\n",
        "  docs = process_file(file)\n",
        "  cl.user_session.set ('docs', docs)\n",
        "  vector_db = Chroma.from_documents(docs, embedding)\n",
        "\n",
        "  return vector_db"
      ],
      "metadata": {
        "id": "Ka5ciVXQUDC8"
      },
      "execution_count": null,
      "outputs": []
    },
    {
      "cell_type": "code",
      "source": [
        "welcome_message = \"\"\"Welcome to the Project! To get started:\n",
        "1. Upload a PDF File or txt file\n",
        "2. Ask a question about said file\"\"\""
      ],
      "metadata": {
        "id": "eEln6l76nUOA"
      },
      "execution_count": null,
      "outputs": []
    },
    {
      "cell_type": "code",
      "source": [
        "@cl.on_chat_start\n",
        "async def on_chat_start():\n",
        "  files = None\n",
        "  while files is None:\n",
        "    files = await cl.AskFileMessage (content = welcome_message, accept = ['text/plain', 'application/pdf'], max_size_mb = 20, timeout = 180).send()\n",
        "  file = files [0]\n",
        "\n",
        "  msg = cl.Message(content = f\"Process '{file.name}'...\", disable_feedback = True)\n",
        "  await msg.send()\n",
        "\n",
        "  vector_db = await cl.make_async(get_vector_db)(file)\n",
        "  message_history = ChatMessageHistory()\n",
        "  memory = ConversationBufferMemory (memory_key = 'chat_history', output_key = 'answer', chat_memory = message_history, return_messages = True)\n",
        "\n",
        "  retriever = vector_db.as_retriver(search_type = 'mmr', search_kwargs = {'k': 3})\n",
        "\n",
        "  chain = ConversationalRetrievalChain.from_llm(llm = LLM, chain_type = 'stuff', retriever = retriever, memory = memory, return_source_documents = True)\n",
        "  msg.content = f\"'{file.name}' processed. You can now ask question!\"\n",
        "  await msg.send()\n",
        "\n",
        "  cl.user.session.set('chain', chain)"
      ],
      "metadata": {
        "id": "-053eBp0j2cj"
      },
      "execution_count": null,
      "outputs": []
    },
    {
      "cell_type": "code",
      "source": [
        "@cl.on_message\n",
        "async def on_message(message: cl.Message):\n",
        "  chain = cl.user.session.get('chain')\n",
        "  cb = cl.AsyncLangchainCallbackHandler()\n",
        "  res = await chain.ainvoke(message.content, callback = [cb])\n",
        "  answer = res['answer']\n",
        "  source_documents = res['source_documents']\n",
        "  text_elements = []\n",
        "\n",
        "  if source_documents:\n",
        "    for source_idx, source_doc in enumerate (source_documents):\n",
        "      source_name = f'source{source_idx}'\n",
        "      text_elements.append(cl.Text(content = source_doc.page_content, name = source_name))\n",
        "      source_names = [text_el.name for text_el in text_elements]\n",
        "      if source_names :\n",
        "\n",
        "        answer += f\"\\ nSources : { ' , '.join(source_names)}\"\n",
        "      else:\n",
        "\n",
        "        answer += \"\\nNo sources found\"\n",
        "\n",
        "    await cl.Message (content = answer , elements = text_elements ).send ()"
      ],
      "metadata": {
        "id": "henfgaJghMCb"
      },
      "execution_count": null,
      "outputs": []
    },
    {
      "cell_type": "code",
      "source": [
        "!chainlit run app.py --host 0.0.0.0 --port 8000 &>/content/logs.txt &"
      ],
      "metadata": {
        "id": "0SG2AiNei4DL"
      },
      "execution_count": null,
      "outputs": []
    },
    {
      "cell_type": "code",
      "source": [
        "import urllib"
      ],
      "metadata": {
        "id": "ZRys0lJyjvXZ"
      },
      "execution_count": null,
      "outputs": []
    },
    {
      "cell_type": "code",
      "source": [
        "rint (\"Password/Enpoint IP for localtunnel is:\",urllib.request.urlopen('https://ipv4.icanhazip.com').read ().decode('utf8').strip(\"\\n\"))\n",
        "!lt --port 8000 -- subdomain aivn-simple-ra"
      ],
      "metadata": {
        "id": "JqIcN5UCoP4h"
      },
      "execution_count": null,
      "outputs": []
    }
  ]
}